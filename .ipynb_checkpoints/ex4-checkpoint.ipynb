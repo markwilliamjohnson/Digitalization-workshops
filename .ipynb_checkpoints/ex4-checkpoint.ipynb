{
 "cells": [
  {
   "cell_type": "markdown",
   "metadata": {},
   "source": [
    "# Introduction to Tools for Digitalization and Computational Thinking\n",
    "\n",
    "There are a range free tools and online services which can be used by teachers and students to support digitalized teaching and learning. \n",
    "\n",
    "One of the most important tools is the Jupyter notebook - an online environment for programming.\n",
    "\n",
    "There are shared programming environments available, including https://colab.research.google.com/ and http://cocalc.com, as well as online programming environments built into other learning spaces such as http://Kaggle.com\n",
    "\n",
    "\n",
    "## Digital tools and techniques\n",
    "\n",
    "The two principal computer languages which are used for digital activities are Python and R. Both these langauges present powerful ways of manipulating and visualising data, and both have huge support on the web. \n",
    "\n",
    "Jupyter Notebooks work with both Python and R."
   ]
  },
  {
   "cell_type": "markdown",
   "metadata": {},
   "source": [
    "## Using Python online\n",
    "\n",
    "The worksheet for this workshop has been produced from a type of file called a \"Jupyter Notebook\". This file type can be run in live programming environments. This means that a simple line of code, like:"
   ]
  },
  {
   "cell_type": "code",
   "execution_count": 1,
   "metadata": {},
   "outputs": [
    {
     "name": "stdout",
     "output_type": "stream",
     "text": [
      "hello world\n"
     ]
    }
   ],
   "source": [
    "print (\"hello world\")"
   ]
  },
  {
   "cell_type": "markdown",
   "metadata": {},
   "source": [
    "Can be run within the same web environment within which students do their learning.\n",
    "\n",
    "This means that students can be guided through computational activities with videos, text and code snippets so that they can run code step-by-step\n"
   ]
  },
  {
   "cell_type": "markdown",
   "metadata": {},
   "source": [
    "# Using Python to analyse data from the questionnaires we answered earlier\n",
    "\n",
    "Here is a link to a folder in which the excel spreadsheet files can be found which contain data which you typed in response to questions earlier.\n",
    "\n",
    "https://alumni-my.sharepoint.com/:f:/g/personal/xgl567_ku_dk/EuwSaUN9SPtEoNjFVa7MgzYBHTmNxFhYRe_BBcNchw-Gzw?e=u6j1df\n",
    "\n",
    "Click on the link and choose the spreadsheet file which you want to download\n"
   ]
  },
  {
   "cell_type": "markdown",
   "metadata": {},
   "source": [
    "# Getting started in Python with Data\n",
    "\n",
    "We are going to use the Cocalc programming environment. \n",
    "\n",
    "Cocalc can be found at http://cocalc.com\n"
   ]
  },
  {
   "cell_type": "markdown",
   "metadata": {},
   "source": [
    "# Download the file for this notebook\n",
    "\n",
    "1. To use cocalc, you need to import the file for this notebook into cocalc. To do that, click on the download icon at the top right of this page, and select \"ipynb\"\n",
    "2. To import your file into cocalc, upload the ipynb file."
   ]
  },
  {
   "cell_type": "markdown",
   "metadata": {},
   "source": [
    "# Analyse questionnaire data\n",
    "\n",
    "To analyze the questionnaire data you produced in the previous exercise, you need to load the data into Python's data structure, which is called a \"Panda dataframe\"\n",
    "\n",
    "Basically, you need to run the code below, and ensure that the pathname matches the name of the data file you have uploaded\n"
   ]
  },
  {
   "cell_type": "code",
   "execution_count": null,
   "metadata": {},
   "outputs": [],
   "source": [
    "import pandas as pd\n",
    "\n",
    "mydata = pd.load_excel (\"mydatafile.xlsx\", encoding=\"latin1\")\n"
   ]
  },
  {
   "cell_type": "markdown",
   "metadata": {},
   "source": [
    "# Viewing the imported data\n",
    "\n",
    "if you have run the code above, then it is easy to see the data that has been imported by simply typing:\n"
   ]
  },
  {
   "cell_type": "code",
   "execution_count": null,
   "metadata": {},
   "outputs": [],
   "source": [
    "mydata"
   ]
  },
  {
   "cell_type": "markdown",
   "metadata": {},
   "source": [
    "Equally, you can print the contents of the data file with:"
   ]
  },
  {
   "cell_type": "code",
   "execution_count": null,
   "metadata": {},
   "outputs": [],
   "source": [
    "print (mydata)"
   ]
  },
  {
   "cell_type": "markdown",
   "metadata": {},
   "source": [
    "note that these approaches display the data differently."
   ]
  },
  {
   "cell_type": "markdown",
   "metadata": {},
   "source": [
    "# Selecting and filtering specific fields of data\n",
    "\n",
    "You can select and filter specific fields of data by specifying which columns you want, and which criteria you want to select"
   ]
  },
  {
   "cell_type": "code",
   "execution_count": null,
   "metadata": {},
   "outputs": [],
   "source": [
    "import pandas as pd\n",
    "\n",
    "mydata = pd.load_excel (\"mydatafile.xlsx\", encoding=\"latin1\")\n",
    "\n",
    "mydata_selection = mydata[[\"username\"] == \"a_user\"]\n",
    "\n",
    "print (mydata_selection)"
   ]
  },
  {
   "cell_type": "markdown",
   "metadata": {},
   "source": [
    "This will display just the data where the username column contains the name specified as \"a_user\" "
   ]
  },
  {
   "cell_type": "markdown",
   "metadata": {},
   "source": [
    "# Doing more complex things\n",
    "\n",
    "Obviously, simple selection can be done in Excel, but Python allows us to take deeper control of the data, and reformat it in various ways.\n",
    "\n",
    "At the simplest level, you might want to export a new spreadsheet with data for a particular user. \n",
    "\n",
    "# Exporting data into a new spreadsheet"
   ]
  },
  {
   "cell_type": "code",
   "execution_count": null,
   "metadata": {},
   "outputs": [],
   "source": [
    "import pandas as pd\n",
    "\n",
    "mydata = pd.load_excel (\"mydatafile.xlsx\", encoding=\"latin1\")\n",
    "\n",
    "mydata_selection = mydata[[\"username\"] == \"a_user\"]\n",
    "\n",
    "print (mydata_selection)\n",
    "\n",
    "mydata_selection.to_excel (\"my_new_excel_file.xlsx\")"
   ]
  }
 ],
 "metadata": {
  "kernelspec": {
   "display_name": "Python 3",
   "language": "python",
   "name": "python3"
  },
  "language_info": {
   "codemirror_mode": {
    "name": "ipython",
    "version": 3
   },
   "file_extension": ".py",
   "mimetype": "text/x-python",
   "name": "python",
   "nbconvert_exporter": "python",
   "pygments_lexer": "ipython3",
   "version": "3.7.6"
  }
 },
 "nbformat": 4,
 "nbformat_minor": 4
}
